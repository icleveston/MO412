{
 "cells": [
  {
   "cell_type": "code",
   "execution_count": 2,
   "id": "a4ae3006-3933-488c-bee0-c4b7515a6c06",
   "metadata": {},
   "outputs": [],
   "source": [
    "import sqlite3\n",
    "import os\n",
    "import csv"
   ]
  },
  {
   "cell_type": "code",
   "execution_count": 9,
   "id": "2f87a9f3-a36d-45f7-ba37-30f5a4af2cb8",
   "metadata": {},
   "outputs": [],
   "source": [
    "# Connect to database\n",
    "conn = sqlite3.connect('../data/public_transportation_bh.db')\n",
    "\n",
    "cursor = conn.cursor()\n",
    "\n",
    "total_rows = 0\n",
    "path_dir = 'csv'\n",
    "# print(os.listdir(path_dir))\n",
    "# Read files"
   ]
  },
  {
   "cell_type": "markdown",
   "id": "7818a70f-6673-4bfb-b0ab-6f23ca34b2b7",
   "metadata": {},
   "source": [
    "Missing data from august 2020 weekend."
   ]
  },
  {
   "cell_type": "code",
   "execution_count": 10,
   "id": "8332745c-12dd-4ca2-87cd-2262ecccccb4",
   "metadata": {},
   "outputs": [
    {
     "name": "stdout",
     "output_type": "stream",
     "text": [
      "Inserindo arquivo embarque_por_ped-siu-sublinha_20220706.csv com tamanho 22430\n",
      "Arquivos processados: 94. Total: 22430\n"
     ]
    }
   ],
   "source": [
    "for filename in os.listdir(path_dir):\n",
    "    data = filename[32:-4]\n",
    "    if('2207' in data):\n",
    "        lista = []\n",
    "\n",
    "        # Get file data\n",
    "\n",
    "\n",
    "        with open(os.path.join(path_dir, filename), encoding='latin-1') as csvfile:\n",
    "            spamreader = csv.reader(csvfile, delimiter=\";\")\n",
    "            next(spamreader)\n",
    "\n",
    "            for row in spamreader:\n",
    "\n",
    "                r = [data] + [None] + row\n",
    "\n",
    "                lista.append(r)\n",
    "\n",
    "        print(f\"Inserindo arquivo {filename} com tamanho {len(lista)}\")\n",
    "\n",
    "        total_rows += len(lista)\n",
    "\n",
    "        if len(lista) > 0:\n",
    "\n",
    "            if len(lista[0]) == 35:\n",
    "\n",
    "                cursor.executemany(\"\"\"\n",
    "                INSERT INTO public_transportation_bh (data,weekend,siu,linha,sublinha,pc,endereco,num_rua,\"0\",\"1\",\"2\",\"3\",\"4\",\"5\",\n",
    "                \"6\",\"7\",\"8\",\"9\",\"10\",\"11\",\"12\",\"13\",\"14\",\"15\",\"16\",\"17\",\"18\",\"19\",\"20\",\"21\",\"22\",\"23\",total,x,y)\n",
    "                VALUES (?,?,?,?,?,?,?,?,?,?,?,?,?,?,?,?,?,?,?,?,?,?,?,?,?,?,?,?,?,?,?,?,?,?,?)\n",
    "                \"\"\", lista)\n",
    "\n",
    "            elif len(lista[0]) == 38:\n",
    "\n",
    "                cursor.executemany(\"\"\"\n",
    "                INSERT INTO public_transportation_bh (data,weekend,siu,linha,sublinha,pc,endereco,num_rua,seq,\"0\",\"1\",\"2\",\"3\",\"4\",\"5\",\n",
    "                \"6\",\"7\",\"8\",\"9\",\"10\",\"11\",\"12\",\"13\",\"14\",\"15\",\"16\",\"17\",\"18\",\"19\",\"20\",\"21\",\"22\",\"23\",total,lat,lon,x,y)\n",
    "                VALUES (?,?,?,?,?,?,?,?,?,?,?,?,?,?,?,?,?,?,?,?,?,?,?,?,?,?,?,?,?,?,?,?,?,?,?,?,?,?)\n",
    "                \"\"\", lista)\n",
    "\n",
    "            else:\n",
    "\n",
    "                lista_proccessed = []\n",
    "                for l in lista:\n",
    "                    lista_proccessed.append(l[:-2])\n",
    "                print(lista_proccessed)\n",
    "                cursor.executemany(\"\"\"\n",
    "                INSERT INTO public_transportation_bh (data,weekend,siu,linha,sublinha,pc,endereco,num_rua,seq,\"0\",\"1\",\"2\",\"3\",\"4\",\"5\",\n",
    "                \"6\",\"7\",\"8\",\"9\",\"10\",\"11\",\"12\",\"13\",\"14\",\"15\",\"16\",\"17\",\"18\",\"19\",\"20\",\"21\",\"22\",\"23\",total,lat,lon,x,y)\n",
    "                VALUES (?,?,?,?,?,?,?,?,?,?,?,?,?,?,?,?,?,?,?,?,?,?,?,?,?,?,?,?,?,?,?,?,?,?,?,?,?,?)\n",
    "                \"\"\", lista_proccessed)\n",
    "conn.commit()\n",
    "\n",
    "print(f\"Arquivos processados: {len(os.listdir('csv'))}. Total: {total_rows}\")\n",
    "\n",
    "conn.close()"
   ]
  },
  {
   "cell_type": "code",
   "execution_count": null,
   "id": "e765c693-215d-48da-a8ec-b6a7230897b0",
   "metadata": {},
   "outputs": [],
   "source": [
    "for filename in os.listdir('data/csv'):\n",
    "\n",
    "    lista = []\n",
    "\n",
    "    # Get file data\n",
    "    data = filename[32:-4]\n",
    "\n",
    "    with open(os.path.join('data/csv', filename), encoding='latin-1') as csvfile:\n",
    "        spamreader = csv.reader(csvfile, delimiter=\";\")\n",
    "        next(spamreader)\n",
    "\n",
    "        for row in spamreader:\n",
    "\n",
    "            r = [data] + row\n",
    "\n",
    "            lista.append(r)\n",
    "\n",
    "    print(f\"Inserindo arquivo {filename} com tamanho {len(lista)}\")\n",
    "\n",
    "    total_rows += len(lista)\n",
    "\n",
    "    if len(lista) > 0:\n",
    "\n",
    "        if len(lista[0]) == 34:\n",
    "\n",
    "            cursor.executemany(\"\"\"\n",
    "            INSERT INTO public_transportation_bh (data,siu,linha,sublinha,pc,endereco,num_rua,\"0\",\"1\",\"2\",\"3\",\"4\",\"5\",\n",
    "            \"6\",\"7\",\"8\",\"9\",\"10\",\"11\",\"12\",\"13\",\"14\",\"15\",\"16\",\"17\",\"18\",\"19\",\"20\",\"21\",\"22\",\"23\",total,x,y)\n",
    "            VALUES (?,?,?,?,?,?,?,?,?,?,?,?,?,?,?,?,?,?,?,?,?,?,?,?,?,?,?,?,?,?,?,?,?,?)\n",
    "            \"\"\", lista)\n",
    "\n",
    "        elif len(lista[0]) == 37:\n",
    "\n",
    "            cursor.executemany(\"\"\"\n",
    "            INSERT INTO public_transportation_bh (data,siu,linha,sublinha,pc,endereco,num_rua,seq,\"0\",\"1\",\"2\",\"3\",\"4\",\"5\",\n",
    "            \"6\",\"7\",\"8\",\"9\",\"10\",\"11\",\"12\",\"13\",\"14\",\"15\",\"16\",\"17\",\"18\",\"19\",\"20\",\"21\",\"22\",\"23\",total,lat,lon,x,y)\n",
    "            VALUES (?,?,?,?,?,?,?,?,?,?,?,?,?,?,?,?,?,?,?,?,?,?,?,?,?,?,?,?,?,?,?,?,?,?,?,?,?)\n",
    "            \"\"\", lista)\n",
    "\n",
    "        else:\n",
    "\n",
    "            lista_proccessed = []\n",
    "            for l in lista:\n",
    "                lista_proccessed.append(l[:-2])\n",
    "\n",
    "            cursor.executemany(\"\"\"\n",
    "            INSERT INTO public_transportation_bh (data,siu,linha,sublinha,pc,endereco,num_rua,seq,\"0\",\"1\",\"2\",\"3\",\"4\",\"5\",\n",
    "            \"6\",\"7\",\"8\",\"9\",\"10\",\"11\",\"12\",\"13\",\"14\",\"15\",\"16\",\"17\",\"18\",\"19\",\"20\",\"21\",\"22\",\"23\",total,lat,lon,x,y)\n",
    "            VALUES (?,?,?,?,?,?,?,?,?,?,?,?,?,?,?,?,?,?,?,?,?,?,?,?,?,?,?,?,?,?,?,?,?,?,?,?,?)\n",
    "            \"\"\", lista_proccessed)\n",
    "\n"
   ]
  },
  {
   "cell_type": "code",
   "execution_count": null,
   "id": "359a5bc0-bf44-482e-92ec-266775a11e7e",
   "metadata": {},
   "outputs": [],
   "source": [
    "conn.commit()\n",
    "\n",
    "print(f\"Arquivos processados: {len(os.listdir('csv'))}. Total: {total_rows}\")\n",
    "\n",
    "conn.close()"
   ]
  },
  {
   "cell_type": "code",
   "execution_count": 31,
   "id": "10029499-9d17-4c78-a35b-a218b1b00f59",
   "metadata": {},
   "outputs": [],
   "source": [
    "conn.close()"
   ]
  },
  {
   "cell_type": "code",
   "execution_count": null,
   "id": "c2c694ee-ad13-466b-bf74-78c173d877b5",
   "metadata": {},
   "outputs": [],
   "source": []
  }
 ],
 "metadata": {
  "kernelspec": {
   "display_name": "Python 3 (ipykernel)",
   "language": "python",
   "name": "python3"
  },
  "language_info": {
   "codemirror_mode": {
    "name": "ipython",
    "version": 3
   },
   "file_extension": ".py",
   "mimetype": "text/x-python",
   "name": "python",
   "nbconvert_exporter": "python",
   "pygments_lexer": "ipython3",
   "version": "3.8.10"
  }
 },
 "nbformat": 4,
 "nbformat_minor": 5
}
